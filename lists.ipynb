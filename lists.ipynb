{
 "cells": [
  {
   "cell_type": "markdown",
   "id": "822d7206",
   "metadata": {},
   "source": [
    "lists are ordred , mutuabe collections of items , mutuable menas we can chnage them they can contain diff data types"
   ]
  },
  {
   "cell_type": "code",
   "execution_count": 1,
   "id": "aa27cfe4",
   "metadata": {},
   "outputs": [
    {
     "name": "stdout",
     "output_type": "stream",
     "text": [
      "<class 'list'>\n"
     ]
    }
   ],
   "source": [
    "lst=[]\n",
    "print(type(lst))"
   ]
  },
  {
   "cell_type": "code",
   "execution_count": 2,
   "id": "ef0ae598",
   "metadata": {},
   "outputs": [
    {
     "name": "stdout",
     "output_type": "stream",
     "text": [
      "['dasha', 'disha', 'sagar', 1, 2, 3]\n"
     ]
    }
   ],
   "source": [
    "names=[\"dasha\",\"disha\",\"sagar\",1,2,3]\n",
    "print(names)"
   ]
  },
  {
   "cell_type": "code",
   "execution_count": 3,
   "id": "be816174",
   "metadata": {},
   "outputs": [
    {
     "name": "stdout",
     "output_type": "stream",
     "text": [
      "[1, 'dasha', 3.14, True]\n",
      "<class 'list'>\n"
     ]
    }
   ],
   "source": [
    "mixed_list=[1,\"dasha\",3.14,True]\n",
    "print(mixed_list)\n",
    "print(type(mixed_list))"
   ]
  },
  {
   "cell_type": "code",
   "execution_count": 6,
   "id": "85af18e8",
   "metadata": {},
   "outputs": [
    {
     "name": "stdout",
     "output_type": "stream",
     "text": [
      "apple\n",
      "banana\n",
      "['banana', 'cherry', 'date']\n"
     ]
    }
   ],
   "source": [
    "### accessing list elements\n",
    "fruits=[\"apple\",\"banana\",\"cherry\",\"date\"]\n",
    "print(fruits[0])  # first element\n",
    "print(fruits[1])  # second element\n",
    "print(fruits[1:4])  # slicing, second and third elements"
   ]
  },
  {
   "cell_type": "code",
   "execution_count": 13,
   "id": "a1f5d8a7",
   "metadata": {},
   "outputs": [
    {
     "name": "stdout",
     "output_type": "stream",
     "text": [
      "['watermelon', 'orange', 'orange', 'cherry', 'date', 'kiwi', 'kiwi', 'kiwi']\n",
      "['watermelon', 'orange', 'orange', 'cherry', 'date', 'kiwi', 'kiwi', 'kiwi', 'kiwi']\n",
      "['watermelon', 'orange', 'orange', 'orange', 'cherry', 'date', 'kiwi', 'kiwi', 'kiwi', 'kiwi']\n",
      "['watermelon', 'orange', 'orange', 'orange', 'cherry', 'date', 'kiwi', 'kiwi', 'kiwi']\n",
      "['watermelon', 'orange', 'orange', 'cherry', 'date', 'kiwi', 'kiwi', 'kiwi']\n",
      "['cherry', 'date', 'kiwi', 'kiwi', 'kiwi', 'orange', 'orange', 'watermelon']\n"
     ]
    }
   ],
   "source": [
    "## modifying lists\n",
    "fruits[0]=\"watermelon\"\n",
    "\n",
    "print(fruits)\n",
    "\n",
    "##list methods\n",
    "# adding elements\n",
    "fruits.append(\"kiwi\")\n",
    "print(fruits)\n",
    "\n",
    "# inserting elements.\n",
    "fruits.insert(1,\"orange\")\n",
    "print(fruits)\n",
    "\n",
    "# removing elements\n",
    "#fruits.remove(\"banana\")\n",
    "#print(fruits)\n",
    "\n",
    "# pop method removes the last element\n",
    "fruits.pop()\n",
    "print(fruits)\n",
    "# pop with index removes the element at that index\n",
    "fruits.pop(1)\n",
    "print(fruits)\n",
    "\n",
    "# sorting lists\n",
    "fruits.sort()\n",
    "print(fruits)"
   ]
  },
  {
   "cell_type": "code",
   "execution_count": null,
   "id": "1bc4d77c",
   "metadata": {},
   "outputs": [
    {
     "name": "stdout",
     "output_type": "stream",
     "text": [
      "['cherry', 'date', 'kiwi', 'kiwi', 'kiwi', 'orange', 'orange', 'watermelon']\n",
      "8\n",
      "['cherry', 'date', 'kiwi', 'kiwi', 'kiwi', 'orange', 'orange', 'watermelon', 'carrot', 'broccoli']\n",
      "kiwi is in the list\n",
      "cherry\n",
      "date\n",
      "kiwi\n",
      "kiwi\n",
      "kiwi\n",
      "orange\n",
      "orange\n",
      "watermelon\n",
      "[0, 1, 4, 9, 16, 25, 36, 49, 64, 81]\n"
     ]
    }
   ],
   "source": [
    "# reversing lists\n",
    "fruits.reverse()\n",
    "print(fruits)\n",
    "\n",
    "# length of a list\n",
    "print(len(fruits))\n",
    "\n",
    "# concatenating lists\n",
    "vegetables=[\"carrot\",\"broccoli\"]\n",
    "all_items = fruits + vegetables\n",
    "print(all_items)\n",
    "\n",
    "# checking if an item is in a list\n",
    "if \"kiwi\" in fruits:\n",
    "    print(\"kiwi is in the list\")\n",
    "else:\n",
    "    print(\"kiwi is not in the list\")\n",
    "\n",
    "# iterating through a list\n",
    "for fruit in fruits:\n",
    "    print(fruit)\n"
   ]
  },
  {
   "cell_type": "code",
   "execution_count": 24,
   "id": "dc066c57",
   "metadata": {},
   "outputs": [
    {
     "name": "stdout",
     "output_type": "stream",
     "text": [
      "[3, 4, 5]\n",
      "[1, 2, 3]\n",
      "[6, 7, 8, 9]\n",
      "[1, 3, 5, 7, 9]\n",
      "[9, 8, 7, 6, 5, 4, 3, 2, 1]\n"
     ]
    }
   ],
   "source": [
    "    #slicing lists\n",
    "numbers = [1, 2, 3, 4, 5, 6, 7, 8, 9]\n",
    "print(numbers[2:5])  # elements from index 2 to 4\n",
    "print(numbers[:3])   # first three elements\n",
    "print(numbers[5:])   # elements from index 5 to the end\n",
    "print(numbers[::2])  # every second element\n",
    "print(numbers[::-1])  # reverse the list"
   ]
  },
  {
   "cell_type": "code",
   "execution_count": null,
   "id": "bdae9e47",
   "metadata": {},
   "outputs": [
    {
     "name": "stdout",
     "output_type": "stream",
     "text": [
      "Index 0: cherry\n",
      "Index 1: date\n",
      "Index 2: kiwi\n",
      "Index 3: kiwi\n",
      "Index 4: kiwi\n",
      "Index 5: orange\n",
      "Index 6: orange\n",
      "Index 7: watermelon\n"
     ]
    }
   ],
   "source": [
    "#iterating with index\n",
    "for index, fruit in enumerate(fruits):\n",
    "    print(f\"Index {index}: {fruit}\")\n",
    "    #explain me the code above\n",
    "# The code above uses the `enumerate` function to iterate through the `fruits` list.\n",
    "# `enumerate` provides both the index and the value of each element in the list.\n",
    "# The loop prints the index and the corresponding fruit in the format \"Index {index}: {fruit}\"."
   ]
  },
  {
   "cell_type": "code",
   "execution_count": 32,
   "id": "6249cc89",
   "metadata": {},
   "outputs": [
    {
     "name": "stdout",
     "output_type": "stream",
     "text": [
      "[0, 1, 4, 9, 16, 25, 36, 49, 64, 81]\n",
      "[0, 1, 4, 9, 16, 25, 36, 49, 64, 81]\n",
      "[0, 4, 16, 36, 64]\n",
      "[1, 2, 3, 4, 5, 6, 7, 8, 9]\n",
      "[0, 1, 4, 9, 16, 25, 36, 49, 64, 81]\n"
     ]
    }
   ],
   "source": [
    "#list comprehensions\n",
    "lst=[]\n",
    "for x in range(10):\n",
    "    lst.append(x**2)\n",
    "print(lst)\n",
    "# The above code creates a list of squares of numbers from 0 to 9 using a for loop.\n",
    "[x+2 for x in range(10)]\n",
    "# The above code creates a list of squares of numbers from 0 to 9 using list comprehension.\n",
    "squared_numbers = [x**2 for x in range(10)]\n",
    "print(squared_numbers)\n",
    "\n",
    "#list comprehension with condition\n",
    "even_squares = [x**2 for x in range(10) if x % 2 == 0]\n",
    "print(even_squares)\n",
    "\n",
    "#nested list comprehensions\n",
    "#how to flatten a 2D list (matrix) into a 1D list\n",
    "    #explain me the code below\n",
    "\n",
    "    # explanation: The following code flattens a 2D list (matrix) into a 1D list using nested list comprehensions.\n",
    "matrix = [[1, 2, 3], [4, 5, 6], [7, 8, 9]]\n",
    "flattened = [num for row in matrix for num in row]\n",
    "print(flattened)\n",
    "# The above code flattens a 2D list (matrix) into a 1D list using nested list comprehensions.\n",
    "#list compresion with function calls\n",
    "def square(x):\n",
    "    return x ** 2\n",
    "squared_numbers = [square(x) for x in range(10)]\n",
    "print(squared_numbers)"
   ]
  },
  {
   "cell_type": "code",
   "execution_count": null,
   "id": "504721d5",
   "metadata": {},
   "outputs": [],
   "source": []
  }
 ],
 "metadata": {
  "kernelspec": {
   "display_name": "base",
   "language": "python",
   "name": "python3"
  },
  "language_info": {
   "codemirror_mode": {
    "name": "ipython",
    "version": 3
   },
   "file_extension": ".py",
   "mimetype": "text/x-python",
   "name": "python",
   "nbconvert_exporter": "python",
   "pygments_lexer": "ipython3",
   "version": "3.12.7"
  }
 },
 "nbformat": 4,
 "nbformat_minor": 5
}

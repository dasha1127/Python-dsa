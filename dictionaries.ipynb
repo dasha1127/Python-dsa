{
 "cells": [
  {
   "cell_type": "code",
   "execution_count": null,
   "id": "c57b25cd",
   "metadata": {},
   "outputs": [],
   "source": [
    "#introduce to dictionary\n",
    "#dictionary is a collection of key-value pairs\n",
    "#dictionary is mutable, unordered, and indexed\n",
    "#dictionary is defined using curly braces {}\n",
    "#dictionary is used to store data values in key:value pairs\n",
    "\n"
   ]
  },
  {
   "cell_type": "code",
   "execution_count": null,
   "id": "e22cc555",
   "metadata": {},
   "outputs": [
    {
     "name": "stdout",
     "output_type": "stream",
     "text": [
      "<class 'dict'>\n"
     ]
    }
   ],
   "source": [
    "#create dictionary\n",
    "my_dict = {\n",
    "    \"name\": \"Alice\",\n",
    "    \"age\": 30,\n",
    "    \"city\": \"New York\"\n",
    "}\n",
    "print(type(my_dict))  # Output: <class 'dict'>\n"
   ]
  },
  {
   "cell_type": "code",
   "execution_count": 8,
   "id": "e3b817b1",
   "metadata": {},
   "outputs": [
    {
     "name": "stdout",
     "output_type": "stream",
     "text": [
      "Alice\n",
      "31\n",
      "{'name': 'Alice', 'age': 31, 'job': 'Engineer'}\n",
      "{'name': 'Alice', 'age': 31, 'job': 'Engineer'}\n",
      "name: Alice\n",
      "age: 31\n",
      "job: Engineer\n",
      "Name exists in the dictionary\n",
      "3\n",
      "{'name': 'Alice', 'age': 31, 'job': 'Engineer'}\n"
     ]
    }
   ],
   "source": [
    "#accessing dictionary elements\n",
    "print(my_dict[\"name\"])  # Output: Alice\n",
    "print(my_dict.get(\"age\"))  # Output: 30\n",
    "#adding elements to dictionary\n",
    "my_dict[\"job\"] = \"Engineer\"\n",
    "print(my_dict)  # Output: {'name': 'Alice', 'age': 30, 'city': 'New York', 'job': 'Engineer'}\n",
    "#updating elements in dictionary\n",
    "my_dict[\"age\"] = 31\n",
    "print(my_dict)  # Output: {'name': 'Alice', 'age': 31, 'city': 'New York', 'job': 'Engineer'}\n",
    "#removing elements from dictionary\n",
    "#del my_dict[\"city\"]\n",
    "#print(my_dict)  # Output: {'name': 'Alice', 'age': 31, 'job': 'Engineer'}\n",
    "\n",
    "#iterating through dictionary\n",
    "for key, value in my_dict.items():\n",
    "    print(f\"{key}: {value}\")\n",
    "\n",
    "#checking if a key exists in dictionary\n",
    "if \"name\" in my_dict:\n",
    "    print(\"Name exists in the dictionary\")  # Output: Name exists in the dictionary\n",
    "#length of dictionary\n",
    "print(len(my_dict))  # Output: 4\n",
    "#copying dictionary\n",
    "my_dict_copy = my_dict.copy()\n",
    "print(my_dict_copy)  # Output: {'name': 'Alice', 'age': 31, 'city': 'New York', 'job': 'Engineer'}"
   ]
  },
  {
   "cell_type": "code",
   "execution_count": 9,
   "id": "090f0fc5",
   "metadata": {},
   "outputs": [
    {
     "name": "stdout",
     "output_type": "stream",
     "text": [
      "{}\n",
      "30\n",
      "{'name': 'Alice', 'city': 'New York'}\n",
      "('city', 'New York')\n",
      "{'name': 'Alice'}\n",
      "{'a': 0, 'b': 0, 'c': 0}\n",
      "USA\n",
      "{'name': 'Alice', 'country': 'USA'}\n"
     ]
    }
   ],
   "source": [
    "## dictionary methods\n",
    "#clear the dictionary\n",
    "my_dict.clear()\n",
    "print(my_dict)  # Output: {}\n",
    "#recreate the dictionary\n",
    "my_dict = {\n",
    "    \"name\": \"Alice\",\n",
    "    \"age\": 30,\n",
    "    \"city\": \"New York\"\n",
    "}\n",
    "#pop an element from the dictionary\n",
    "popped_value = my_dict.pop(\"age\")\n",
    "print(popped_value)  # Output: 30\n",
    "print(my_dict)  # Output: {'name': 'Alice', 'city': 'New York'}\n",
    "#popitem removes the last inserted key-value pair\n",
    "popped_item = my_dict.popitem()\n",
    "print(popped_item)  # Output: ('city', 'New York')\n",
    "print(my_dict)  # Output: {'name': 'Alice'}\n",
    "#using fromkeys to create a new dictionary with specified keys and a default value\n",
    "new_dict = dict.fromkeys([\"a\", \"b\", \"c\"], 0)\n",
    "print(new_dict)  # Output: {'a': 0, 'b': 0, 'c': 0}\n",
    "#using setdefault to get the value of a key or set it if it doesn't exist\n",
    "value = my_dict.setdefault(\"country\", \"USA\")\n",
    "print(value)  # Output: USA\n",
    "print(my_dict)  # Output: {'name': 'Alice', 'country': 'USA'}"
   ]
  },
  {
   "cell_type": "code",
   "execution_count": 12,
   "id": "bfe8ad88",
   "metadata": {},
   "outputs": [
    {
     "name": "stdout",
     "output_type": "stream",
     "text": [
      "name\n",
      "country\n",
      "Alice\n",
      "USA\n",
      "name: Alice\n",
      "country: USA\n",
      "{0: 0, 1: 1, 2: 4, 3: 9, 4: 16}\n"
     ]
    }
   ],
   "source": [
    "##iterating through keys and values\n",
    "#iterating through keys\n",
    "for key in my_dict.keys():\n",
    "    print(key)  # Output: name, country\n",
    "#iterating through values\n",
    "for value in my_dict.values():\n",
    "    print(value)  # Output: Alice, USA\n",
    "#iterating through both keys and values\n",
    "for key, value in my_dict.items():\n",
    "    print(f\"{key}: {value}\")  # Output: name: Alice, country: USA\n",
    "\n",
    "#using dictionary comprehension to create a new dictionary\n",
    "squared_dict = {x: x**2 for x in range(5)}\n",
    "print(squared_dict)  # Output: {0: 0, 1: 1, 2: 4, 3: 9, 4: 16}"
   ]
  },
  {
   "cell_type": "code",
   "execution_count": 14,
   "id": "b693e622",
   "metadata": {},
   "outputs": [
    {
     "name": "stdout",
     "output_type": "stream",
     "text": [
      "Alice\n",
      "25\n",
      "{'a': 1, 'b': 3, 'c': 4}\n",
      "{'a': 1, 'b': 3, 'c': 4}\n",
      "name: Alice\n",
      "country: USA\n"
     ]
    }
   ],
   "source": [
    "#nested dictionaries\n",
    "nested_dict = {\n",
    "    \"person1\": {\n",
    "        \"name\": \"Alice\",\n",
    "        \"age\": 30\n",
    "    },\n",
    "    \"person2\": {\n",
    "        \"name\": \"Bob\",\n",
    "        \"age\": 25\n",
    "    }\n",
    "}\n",
    "print(nested_dict[\"person1\"][\"name\"])  # Output: Alice\n",
    "print(nested_dict[\"person2\"][\"age\"])  # Output: 25\n",
    "#merging dictionaries\n",
    "dict1 = {\"a\": 1, \"b\": 2}\n",
    "dict2 = {\"b\": 3, \"c\": 4}\n",
    "merged_dict = {**dict1, **dict2}\n",
    "print(merged_dict)  # Output: {'a': 1, 'b': 3, 'c': 4}\n",
    "#using the update method to merge dictionaries\n",
    "dict1.update(dict2)\n",
    "print(dict1)  # Output: {'a': 1, 'b': 3, 'c': 4}\n",
    "#iterating through a dictionary with a for loop\n",
    "for key in my_dict:\n",
    "    print(f\"{key}: {my_dict[key]}\")  # Output: name: Alice, country: USA\n",
    "#checking if a value exists in the dictionary"
   ]
  },
  {
   "cell_type": "code",
   "execution_count": 15,
   "id": "169e103a",
   "metadata": {},
   "outputs": [
    {
     "name": "stdout",
     "output_type": "stream",
     "text": [
      "Alice is in the dictionary\n",
      "Key 'name' exists in the dictionary\n",
      "Value 'USA' exists in the dictionary\n"
     ]
    }
   ],
   "source": [
    "#dictionary comorehension\n",
    "if \"Alice\" in my_dict.values():\n",
    "    print(\"Alice is in the dictionary\")  # Output: Alice is in the dictionary\n",
    "#checking if a key exists in the dictionary\n",
    "if \"name\" in my_dict:\n",
    "    print(\"Key 'name' exists in the dictionary\")  # Output: Key 'name' exists in the dictionary\n",
    "#checking if a value exists in the dictionary\n",
    "if \"USA\" in my_dict.values():\n",
    "    print(\"Value 'USA' exists in the dictionary\")  # Output: Value 'USA' exists in the dictionary"
   ]
  },
  {
   "cell_type": "code",
   "execution_count": 17,
   "id": "e11b87d9",
   "metadata": {},
   "outputs": [
    {
     "name": "stdout",
     "output_type": "stream",
     "text": [
      "{0: 0, 2: 4, 4: 16, 6: 36, 8: 64}\n"
     ]
    }
   ],
   "source": [
    "evens={x: x**2 for x in range(10) if x % 2 == 0}\n",
    "print(evens)  # Output: {0: 0, 2: 4, 4: 16, 6: 36, 8: 64}"
   ]
  },
  {
   "cell_type": "code",
   "execution_count": 19,
   "id": "af573c49",
   "metadata": {},
   "outputs": [
    {
     "name": "stdout",
     "output_type": "stream",
     "text": [
      "{'hello': 2, 'world': 1, 'everyone': 1}\n",
      "Average grade: 84.33\n"
     ]
    }
   ],
   "source": [
    "##practical example\n",
    "# use a dictionary to count the frequency of words in a sentence\n",
    "sentence = \"hello world hello everyone\"\n",
    "word_count = {}\n",
    "for word in sentence.split():\n",
    "    word_count[word] = word_count.get(word, 0) + 1\n",
    "print(word_count)  # Output: {'hello': 2, 'world': 1, 'everyone': 1}\n",
    "\n",
    "# use a dictionary to store student grades\n",
    "students = {\n",
    "    \"Alice\": 85,\n",
    "    \"Bob\": 90,\n",
    "    \"Charlie\": 78\n",
    "}\n",
    "# calculate the average grade\n",
    "average_grade = sum(students.values()) / len(students)\n",
    "print(f\"Average grade: {average_grade:.2f}\")  # Output: Average grade: 84.33"
   ]
  },
  {
   "cell_type": "code",
   "execution_count": null,
   "id": "cf06ae4b",
   "metadata": {},
   "outputs": [],
   "source": []
  }
 ],
 "metadata": {
  "kernelspec": {
   "display_name": "base",
   "language": "python",
   "name": "python3"
  },
  "language_info": {
   "codemirror_mode": {
    "name": "ipython",
    "version": 3
   },
   "file_extension": ".py",
   "mimetype": "text/x-python",
   "name": "python",
   "nbconvert_exporter": "python",
   "pygments_lexer": "ipython3",
   "version": "3.12.7"
  }
 },
 "nbformat": 4,
 "nbformat_minor": 5
}

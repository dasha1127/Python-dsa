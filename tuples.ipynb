{
 "cells": [
  {
   "cell_type": "code",
   "execution_count": 2,
   "id": "645f878a",
   "metadata": {},
   "outputs": [
    {
     "name": "stdout",
     "output_type": "stream",
     "text": [
      "1\n",
      "hello\n"
     ]
    }
   ],
   "source": [
    "#introduce about tuples\n",
    "# Tuples are immutable sequences in Python, used to store multiple items in a single variable.\n",
    "# They are defined by enclosing the items in parentheses, separated by commas.\n",
    "# Example of a tuple\n",
    "my_tuple = (1, 2, 3, \"hello\", True)\n",
    "# Tuples can contain mixed data types, including integers, strings, and booleans.\n",
    "# Accessing elements in a tuple is done using indexing, similar to lists.\n",
    "print(my_tuple[0])  # Output: 1\n",
    "print(my_tuple[3])  # Output: hello"
   ]
  },
  {
   "cell_type": "code",
   "execution_count": 3,
   "id": "33b55a4f",
   "metadata": {},
   "outputs": [
    {
     "name": "stdout",
     "output_type": "stream",
     "text": [
      "(2, 3, 'hello')\n",
      "4\n",
      "(1, 2, 3)\n"
     ]
    }
   ],
   "source": [
    "#accessing tuple elemnts\n",
    "print(my_tuple[1:4])  # Output: (2, 3, 'hello')\n",
    "# Tuples can also be nested, meaning a tuple can contain other tuples.\n",
    "nested_tuple = (1, 2, (3, 4), \"world\")\n",
    "# Accessing elements in a nested tuple\n",
    "print(nested_tuple[2][1])  # Output: 4\n",
    "# Tuples are often used to return multiple values from a function.\n",
    "def return_multiple_values():\n",
    "    return (1, 2, 3)\n",
    "result = return_multiple_values()\n",
    "print(result)  # Output: (1, 2, 3)"
   ]
  },
  {
   "cell_type": "code",
   "execution_count": 4,
   "id": "0179e67e",
   "metadata": {},
   "outputs": [
    {
     "name": "stdout",
     "output_type": "stream",
     "text": [
      "(1, 2, 3, 4, 5, 6)\n",
      "(1, 2, 3, 1, 2, 3, 1, 2, 3)\n"
     ]
    }
   ],
   "source": [
    "#tuple operations\n",
    "# Tuples support various operations like concatenation and repetition.\n",
    "tuple1 = (1, 2, 3)\n",
    "tuple2 = (4, 5, 6)\n",
    "# Concatenation\n",
    "concatenated_tuple = tuple1 + tuple2\n",
    "print(concatenated_tuple)  # Output: (1, 2, 3, 4, 5, 6)\n",
    "# Repetition\n",
    "repeated_tuple = tuple1 * 3\n",
    "print(repeated_tuple)  \n",
    "# Output: (1, 2, 3, 1, 2, 3, 1, 2, 3)\n",
    "# Output: (1, 2, 3, 1, 2, 3, 1, 2, 3)"
   ]
  },
  {
   "cell_type": "code",
   "execution_count": 5,
   "id": "d635f4c3",
   "metadata": {},
   "outputs": [
    {
     "name": "stdout",
     "output_type": "stream",
     "text": [
      "Error: 'tuple' object does not support item assignment\n"
     ]
    }
   ],
   "source": [
    "#immutable nature of tuples \n",
    "# Tuples are immutable, meaning their elements cannot be changed after creation.\n",
    "# Attempting to modify a tuple will raise a TypeError.\n",
    "try:\n",
    "    my_tuple[0] = 10  # This will raise an error\n",
    "except TypeError as e:\n",
    "    print(f\"Error: {e}\")"
   ]
  },
  {
   "cell_type": "code",
   "execution_count": null,
   "id": "2f246345",
   "metadata": {},
   "outputs": [],
   "source": [
    "#unpacking tuples\n",
    "# Tuples can be unpacked into individual variables.\n",
    "a, b, c, d, e = my_tuple\n",
    "print(a)  # Output: 1   \n",
    "print(d)  # Output: hello\n",
    "# Tuples can also be used in loops to iterate over multiple values.\n",
    "for item in my_tuple:\n",
    "    print(item)\n",
    "# Output: 1, 2, 3, hello, True\n",
    "# Tuples can be used as keys in dictionaries due to their immutability.\n",
    "my_dict = {my_tuple: \"This is a tuple key\"}\n",
    "print(my_dict[my_tuple])  # Output: This is a tuple key\n",
    "# Tuples are commonly used in Python for various purposes, such as returning multiple values from functions,"
   ]
  },
  {
   "cell_type": "code",
   "execution_count": 6,
   "id": "2eccad26",
   "metadata": {},
   "outputs": [
    {
     "name": "stdout",
     "output_type": "stream",
     "text": [
      "(1, [2, 3, 4, 5])\n"
     ]
    }
   ],
   "source": [
    "#unpacking tuples with *\n",
    "# Tuples can be unpacked using the asterisk (*) operator to collect remaining items.\n",
    "def unpack_with_star(*args):\n",
    "    first, *rest = args\n",
    "    return first, rest\n",
    "result = unpack_with_star(1, 2, 3, 4, 5)\n",
    "print(result)  # Output: (1, [2, 3, 4, 5])"
   ]
  },
  {
   "cell_type": "code",
   "execution_count": 8,
   "id": "9e33e960",
   "metadata": {},
   "outputs": [
    {
     "name": "stdout",
     "output_type": "stream",
     "text": [
      "(3, 4)\n",
      "4\n",
      "2\n",
      "5\n",
      "Point coordinates: x=3, y=4\n"
     ]
    }
   ],
   "source": [
    "#nested tuples\n",
    "# Tuples can be nested, meaning a tuple can contain other tuples.\n",
    "nested_tuple = (1, 2, (3, 4), \"world\")\n",
    "# Accessing elements in a nested tuple\n",
    "print(nested_tuple[2])  # Output: (3, 4)\n",
    "print(nested_tuple[2][1])  # Output: 4\n",
    "# Nested tuples can be useful for organizing complex data structures.\n",
    "# Example of a nested tuple\n",
    "complex_tuple = (1, (2, 3), (4, (5, 6)), \"example\")\n",
    "# Accessing elements in a complex nested tuple\n",
    "print(complex_tuple[1][0])  # Output: 2\n",
    "print(complex_tuple[2][1][0])  # Output: 5\n",
    "# Tuples can also be used to represent points in a 2D space.\n",
    "point = (3, 4)\n",
    "# Accessing coordinates of the point\n",
    "x, y = point\n",
    "print(f\"Point coordinates: x={x}, y={y}\")  # Output: Point coordinates: x=3, y=4"
   ]
  }
 ],
 "metadata": {
  "kernelspec": {
   "display_name": "base",
   "language": "python",
   "name": "python3"
  },
  "language_info": {
   "codemirror_mode": {
    "name": "ipython",
    "version": 3
   },
   "file_extension": ".py",
   "mimetype": "text/x-python",
   "name": "python",
   "nbconvert_exporter": "python",
   "pygments_lexer": "ipython3",
   "version": "3.12.7"
  }
 },
 "nbformat": 4,
 "nbformat_minor": 5
}

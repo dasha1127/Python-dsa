{
 "cells": [
  {
   "cell_type": "markdown",
   "id": "b1d4d746",
   "metadata": {},
   "source": [
    "sets are a built in data type in python used to store collections of unique items , unordered, do not allow duplicate order performs mathematical set operations like union,intersection,difference and symmetric difference"
   ]
  },
  {
   "cell_type": "code",
   "execution_count": 26,
   "id": "20844199",
   "metadata": {},
   "outputs": [
    {
     "name": "stdout",
     "output_type": "stream",
     "text": [
      "{1, 2, 3, 4, 5}\n",
      "<class 'set'>\n",
      "{1, 2, 3, 4, 5, 6}\n",
      "{1, 3, 4, 5, 6}\n",
      "True\n",
      "5\n",
      "1\n",
      "set()\n"
     ]
    }
   ],
   "source": [
    "#create a set\n",
    "set={1, 2, 3, 4, 5,4,3}\n",
    "print(set)\n",
    "print(type(set))\n",
    "\n",
    "#add an element to the set\n",
    "set.add(6)\n",
    "print(set)\n",
    "#remove an element from the set\n",
    "set.remove(2)\n",
    "print(set)\n",
    "#check if an element is in the set\n",
    "print(3 in set)\n",
    "\n",
    "#check the length of the set\n",
    "print(len(set))\n",
    "#pop an element from the set\n",
    "print(set.pop())\n",
    "\n",
    "#clear the set\n",
    "set.clear()\n",
    "print(set)\n",
    "#delete the set\n",
    "del set"
   ]
  },
  {
   "cell_type": "code",
   "execution_count": null,
   "id": "9e296007",
   "metadata": {},
   "outputs": [
    {
     "name": "stdout",
     "output_type": "stream",
     "text": [
      "True\n",
      "{1, 2, 3, 4, 5}\n",
      "{3}\n",
      "{1, 2}\n",
      "False\n",
      "False\n",
      "False\n"
     ]
    }
   ],
   "source": [
    "#set membership test\n",
    "set1 = {1, 2, 3}\n",
    "set2 = {3, 4, 5}\n",
    "print(2 in set1)  # True\n",
    "##mathematical operations on sets\n",
    "print(set1.union(set2))  # {1, 2, 3, 4, 5}\n",
    "print(set1.intersection(set2))  # {3} common elements\n",
    "print(set1.difference(set2))  # {1, 2} # elements in set1 but not in set2\n",
    "print(set1.symmetric_difference(set2))  # {1, 2, 4, 5} # elements in either set1 or set2 but not both\n",
    "\n",
    "print(set1 | set2)  # {1, 2, 3, 4, 5}\n",
    "print(set1 & set2)  # {3}\n",
    "print(set1 - set2)  # {1, 2}\n",
    "print(set1 ^ set2)  # {1, 2, 4, 5}\n",
    "\n",
    "#subset, superset, and disjoint tests\n",
    "# A set is a subset of another if all its elements are in the other set\n",
    "# A set is a superset of another if it contains all elements of the other set\n",
    "# Two sets are disjoint if they have no elements in common\n",
    "\n",
    "print(set1.issubset({1, 2, 3, 4, 5}))  # True \n",
    "print(set1.issubset(set2))  # False\n",
    "print(set1.issuperset(set2))  # False\n",
    "print(set1.isdisjoint(set2))  # False, since they share the element 3"
   ]
  },
  {
   "cell_type": "code",
   "execution_count": 27,
   "id": "40dcce49",
   "metadata": {},
   "outputs": [
    {
     "name": "stdout",
     "output_type": "stream",
     "text": [
      "{1, 2, 3, 4, 5}\n"
     ]
    }
   ],
   "source": [
    "# convert a list to a set\n",
    "# Make sure to use the built-in set, not the overwritten variable\n",
    "list_as_set = set(lst)\n",
    "print(list_as_set)"
   ]
  },
  {
   "cell_type": "code",
   "execution_count": 28,
   "id": "6744ea4d",
   "metadata": {},
   "outputs": [
    {
     "name": "stdout",
     "output_type": "stream",
     "text": [
      "{'hello', 'world', 'python'}\n"
     ]
    }
   ],
   "source": [
    "#conting unique words in a text\n",
    "text = \"hello world hello python\"\n",
    "words = text.split()\n",
    "unique_words = set(words)\n",
    "print(unique_words)  # {'hello', 'world', 'python'}"
   ]
  }
 ],
 "metadata": {
  "kernelspec": {
   "display_name": "base",
   "language": "python",
   "name": "python3"
  },
  "language_info": {
   "codemirror_mode": {
    "name": "ipython",
    "version": 3
   },
   "file_extension": ".py",
   "mimetype": "text/x-python",
   "name": "python",
   "nbconvert_exporter": "python",
   "pygments_lexer": "ipython3",
   "version": "3.12.7"
  }
 },
 "nbformat": 4,
 "nbformat_minor": 5
}
